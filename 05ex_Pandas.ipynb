{
 "cells": [
  {
   "cell_type": "markdown",
   "metadata": {},
   "source": [
    "## Pandas analysis\n",
    "\n",
    "This exercise consists in analyzing a dataset containg timing information from a series of Time-to-Digital-Converters (TDC) implemented in a couple of FPGAs. Each measurement (i.e. each row of the input file) consists of a flag that specifies the type of message ('HEAD', which in this case is always 1), two addresses of the TDC providing the signal ('FPGA' and 'TDC_CHANNEL'), and the timing information ('ORBIT_CNT', 'BX_COUNTER', and 'TDC_MEAS'). Each TDC count corresponds to 25/30 ns, whereas a unit of BX_COUNTER corresponds to 25 ns, and the ORBIT_CNT is increased every 'x' BX_COUNTER. This allows to store the time in a similar way to hours, minutes and seconds."
   ]
  },
  {
   "cell_type": "code",
   "execution_count": 59,
   "metadata": {
    "scrolled": true
   },
   "outputs": [
    {
     "name": "stderr",
     "output_type": "stream",
     "text": [
      "'wget' is not recognized as an internal or external command,\n",
      "operable program or batch file.\n"
     ]
    }
   ],
   "source": [
    "# If you didn't download it yet, please get the relevant file now!\n",
    "!wget https://www.dropbox.com/s/xvjzaxzz3ysphme/data_000637.txt -P ~/data/\n"
   ]
  },
  {
   "cell_type": "markdown",
   "metadata": {},
   "source": [
    "1\\. Create a Pandas DataFrame reading N rows of the 'data_000637.txt' dataset. Choose N to be smaller than or equal to the maximum number of rows and larger that 10k.\n",
    "\n",
    "2\\. Find out the number of BX in a ORBIT (the value 'x').\n",
    "\n",
    "3\\. Find out how much the data taking lasted. You can either make an estimate based on the fraction of the measurements (rows) you read, or perform this check precisely by reading out the whole dataset.\n",
    "\n",
    "4\\. Create a new column with the absolute time in ns (as a combination of the other three columns with timing information).\n",
    "\n",
    "5\\. Replace the values (all 1) of the HEAD column randomly with 0 or 1.\n",
    "\n",
    "6\\. Create a new DataFrame that contains only the rows with HEAD=1.\n",
    "\n",
    "7\\. Make two occupancy plots (one for each FPGA), i.e. plot the number of counts per TDC channel\n",
    "\n",
    "8\\. Use the groupby method to find out the noisy channels, i.e. the TDC channels with most counts (say the top 3)\n",
    "\n",
    "9\\. Count the number of unique orbits. Count the number of unique orbits with at least one measurement from TDC_CHANNEL=139"
   ]
  },
  {
   "cell_type": "markdown",
   "metadata": {},
   "source": [
    "# explanation notes\n",
    "every record is a series of variable, \n",
    "gives address of the measurement and the time\n",
    "address is split into two and time is split into three (eg hr, min, sec)\n",
    "the one counting the smallest intreval (TDC) is measuring a nm roughly\n",
    "next counter - BX counter, every 30 TDC count\n",
    "third counter resets every X of BX counts\n",
    "with a label of which channel provided the signal \n",
    "gives a timing"
   ]
  },
  {
   "cell_type": "code",
   "execution_count": 6,
   "metadata": {},
   "outputs": [],
   "source": [
    "# 1\\. Create a Pandas DataFrame reading N rows of the \n",
    "#'data_000637.txt' dataset. Choose N to be smaller than or \n",
    "# equal to the maximum number of rows and larger that 10k."
   ]
  },
  {
   "cell_type": "code",
   "execution_count": 1,
   "metadata": {},
   "outputs": [],
   "source": [
    "import pandas as pd\n",
    "import numpy as np"
   ]
  },
  {
   "cell_type": "code",
   "execution_count": 26,
   "metadata": {},
   "outputs": [
    {
     "name": "stdout",
     "output_type": "stream",
     "text": [
      "         HEAD  FPGA  TDC_CHANNEL   ORBIT_CNT  BX_COUNTER  TDC_MEAS\n",
      "0           1     0          123  3869200167        2374        26\n",
      "1           1     0          124  3869200167        2374        27\n",
      "2           1     0           63  3869200167        2553        28\n",
      "3           1     0           64  3869200167        2558        19\n",
      "4           1     0           64  3869200167        2760        25\n",
      "...       ...   ...          ...         ...         ...       ...\n",
      "1310715     1     0           62  3869211171         762        14\n",
      "1310716     1     1            4  3869211171         763        11\n",
      "1310717     1     0           64  3869211171         764         0\n",
      "1310718     1     0          139  3869211171         769         0\n",
      "1310719     1     0           61  3869211171         762        18\n",
      "\n",
      "[1310720 rows x 6 columns]\n"
     ]
    }
   ],
   "source": [
    "entries = 'data_000637.txt'\n",
    "#N=30000\n",
    "df = pd.read_csv(entries)#, nrows=N)\n",
    "print(df)\n"
   ]
  },
  {
   "cell_type": "code",
   "execution_count": 3,
   "metadata": {},
   "outputs": [],
   "source": [
    "# 2\\. Find out the number of BX in a ORBIT (the value 'x').\n",
    "#number of BX for ORBIT to increase by 1"
   ]
  },
  {
   "cell_type": "code",
   "execution_count": 21,
   "metadata": {},
   "outputs": [
    {
     "name": "stdout",
     "output_type": "stream",
     "text": [
      "     HEAD  FPGA  TDC_CHANNEL   ORBIT_CNT  BX_COUNTER  TDC_MEAS       time_ns  \\\n",
      "42      1     0           57  3869200167        3187        17  79689.166667   \n",
      "43      1     1            1  3869200168           7        18    190.000000   \n",
      "44      1     0           64  3869200168           7        16    188.333333   \n",
      "45      1     1            1  3869200168          13        18    340.000000   \n",
      "46      1     0           63  3869200168           8        28    223.333333   \n",
      "..    ...   ...          ...         ...         ...       ...           ...   \n",
      "125     1     0           59  3869200168        1885        14  47136.666667   \n",
      "126     1     0          139  3869200168        1894         0  47350.000000   \n",
      "127     1     0           62  3869200168        3538         4  88453.333333   \n",
      "128     1     0           74  3869200169           1        18     40.000000   \n",
      "129     1     1           16  3869200169         131        11   3284.166667   \n",
      "\n",
      "     HEAD_r  \n",
      "42        0  \n",
      "43        0  \n",
      "44        1  \n",
      "45        0  \n",
      "46        0  \n",
      "..      ...  \n",
      "125       1  \n",
      "126       1  \n",
      "127       1  \n",
      "128       0  \n",
      "129       1  \n",
      "\n",
      "[88 rows x 8 columns]\n",
      "3564\n"
     ]
    }
   ],
   "source": [
    "print(df[42:130])\n",
    "#max BX is 3187 in row 42 and 3538 in row 127\n",
    "#127-42 = 85\n",
    "x = df[\"BX_COUNTER\"].max()+1\n",
    "print(x)"
   ]
  },
  {
   "cell_type": "code",
   "execution_count": 22,
   "metadata": {},
   "outputs": [],
   "source": [
    "#3\\. Find out how much the data taking lasted. \n",
    "#You can either make an estimate based on the fraction \n",
    "#of the measurements (rows) you read, or perform this check \n",
    "#precisely by reading out the whole dataset."
   ]
  },
  {
   "cell_type": "code",
   "execution_count": 23,
   "metadata": {},
   "outputs": [
    {
     "name": "stdout",
     "output_type": "stream",
     "text": [
      "0    3869200167\n",
      "Name: ORBIT_CNT, dtype: int64\n",
      "1310719    3869211171\n",
      "Name: ORBIT_CNT, dtype: int64\n",
      "980456400 ns\n",
      "0.9804564 seconds\n"
     ]
    }
   ],
   "source": [
    "#no rows in df = 1310720\n",
    "#amount of time taken = (ORB_CNT final row - ORB_CNT first row)*3564*25 in ns\n",
    "print(df.head(1)[\"ORBIT_CNT\"])\n",
    "print(df.tail(1)[\"ORBIT_CNT\"])\n",
    "t_orb = df.iloc[1310719,3]-df.iloc[0,3]\n",
    "t_bx = t_orb * 3564\n",
    "t_ns = t_bx * 25\n",
    "\n",
    "print(t_ns, \"ns\")\n",
    "t_s = t_ns / 10 ** 9\n",
    "print(t_s, \"seconds\")"
   ]
  },
  {
   "cell_type": "code",
   "execution_count": 24,
   "metadata": {},
   "outputs": [],
   "source": [
    "#4\\. Create a new column with the absolute time in ns \n",
    "#(as a combination of the other three columns with timing information)."
   ]
  },
  {
   "cell_type": "code",
   "execution_count": 36,
   "metadata": {},
   "outputs": [
    {
     "name": "stdout",
     "output_type": "stream",
     "text": [
      "   HEAD  FPGA  TDC_CHANNEL   ORBIT_CNT  BX_COUNTER  TDC_MEAS       time_ns\n",
      "0     1     0          123  3869200167        2374        26  59371.666667\n",
      "1     1     0          124  3869200167        2374        27  59372.500000\n",
      "2     1     0           63  3869200167        2553        28  63848.333333\n",
      "3     1     0           64  3869200167        2558        19  63965.833333\n",
      "4     1     0           64  3869200167        2760        25  69020.833333\n"
     ]
    }
   ],
   "source": [
    "#absolute time - ORB_CNT:BX_COUNTER:TDC_MEAS \n",
    "#hr:m:s\n",
    "\n",
    "df['time_ns']=df['TDC_MEAS']*25/30+df['BX_COUNTER']*25\n",
    "print(df.head())\n"
   ]
  },
  {
   "cell_type": "code",
   "execution_count": 9,
   "metadata": {},
   "outputs": [],
   "source": [
    "#5\\. Replace the values (all 1) of the HEAD column randomly with 0 or 1."
   ]
  },
  {
   "cell_type": "code",
   "execution_count": 32,
   "metadata": {},
   "outputs": [
    {
     "name": "stdout",
     "output_type": "stream",
     "text": [
      "   HEAD_r  FPGA  TDC_CHANNEL   ORBIT_CNT  BX_COUNTER  TDC_MEAS       time_ns\n",
      "0       0     0          123  3869200167        2374        26  59371.666667\n",
      "1       0     0          124  3869200167        2374        27  59372.500000\n",
      "2       1     0           63  3869200167        2553        28  63848.333333\n",
      "3       0     0           64  3869200167        2558        19  63965.833333\n",
      "4       1     0           64  3869200167        2760        25  69020.833333\n",
      "   HEAD  FPGA  TDC_CHANNEL   ORBIT_CNT  BX_COUNTER  TDC_MEAS       time_ns\n",
      "0     1     0          123  3869200167        2374        26  59371.666667\n",
      "1     1     0          124  3869200167        2374        27  59372.500000\n",
      "2     1     0           63  3869200167        2553        28  63848.333333\n",
      "3     1     0           64  3869200167        2558        19  63965.833333\n",
      "4     1     0           64  3869200167        2760        25  69020.833333\n"
     ]
    }
   ],
   "source": [
    "HEAD_r = np.random.randint(0,2,1310720)\n",
    "HEAD_r = HEAD_r.reshape(1310720, 1)\n",
    "\n",
    "df_mod = df.copy()\n",
    "df_mod['HEAD_r'] = HEAD_r\n",
    "#print(df_mod)\n",
    "df_mod.drop(columns = ['HEAD'])\n",
    "df_mod = df_mod[['HEAD_r', 'FPGA', 'TDC_CHANNEL', 'ORBIT_CNT', 'BX_COUNTER', 'TDC_MEAS', 'time_ns']]\n",
    "print(df_mod.head())\n",
    "print(df.head())"
   ]
  },
  {
   "cell_type": "code",
   "execution_count": 11,
   "metadata": {},
   "outputs": [],
   "source": [
    "#6\\. Create a new DataFrame that contains only the rows with HEAD=1."
   ]
  },
  {
   "cell_type": "code",
   "execution_count": 33,
   "metadata": {
    "scrolled": true
   },
   "outputs": [
    {
     "name": "stdout",
     "output_type": "stream",
     "text": [
      "    HEAD_r  FPGA  TDC_CHANNEL   ORBIT_CNT  BX_COUNTER  TDC_MEAS       time_ns\n",
      "2        1     0           63  3869200167        2553        28  63848.333333\n",
      "4        1     0           64  3869200167        2760        25  69020.833333\n",
      "10       1     1            7  3869200167        2785         4  69628.333333\n",
      "11       1     0           64  3869200167        2786        19  69665.833333\n",
      "14       1     0           56  3869200167        2789         3  69727.500000\n"
     ]
    }
   ],
   "source": [
    "df_new = df_mod[df_mod['HEAD_r'] > 0]\n",
    "#df_new.dropna(how = 'any')\n",
    "print(df_new.head())"
   ]
  },
  {
   "cell_type": "code",
   "execution_count": 13,
   "metadata": {},
   "outputs": [],
   "source": [
    "#7\\. Make two occupancy plots (one for each FPGA), \n",
    "#i.e. plot the number of counts per TDC channel"
   ]
  },
  {
   "cell_type": "code",
   "execution_count": null,
   "metadata": {},
   "outputs": [],
   "source": []
  }
 ],
 "metadata": {
  "kernelspec": {
   "display_name": "Python 3",
   "language": "python",
   "name": "python3"
  },
  "language_info": {
   "codemirror_mode": {
    "name": "ipython",
    "version": 3
   },
   "file_extension": ".py",
   "mimetype": "text/x-python",
   "name": "python",
   "nbconvert_exporter": "python",
   "pygments_lexer": "ipython3",
   "version": "3.8.3"
  }
 },
 "nbformat": 4,
 "nbformat_minor": 2
}
