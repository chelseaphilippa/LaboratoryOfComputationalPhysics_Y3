{
 "cells": [
  {
   "cell_type": "markdown",
   "metadata": {},
   "source": [
    "### Numpy basics"
   ]
  },
  {
   "cell_type": "markdown",
   "metadata": {},
   "source": [
    "1\\. Find the row, column and overall means for the following matrix:\n",
    "\n",
    "```python\n",
    "m = np.arange(12).reshape((3,4))\n",
    "```"
   ]
  },
  {
   "cell_type": "code",
   "execution_count": 1,
   "metadata": {},
   "outputs": [],
   "source": [
    "import numpy as np # importing convention\n",
    "import matplotlib.pyplot as plt"
   ]
  },
  {
   "cell_type": "code",
   "execution_count": 135,
   "metadata": {},
   "outputs": [
    {
     "name": "stdout",
     "output_type": "stream",
     "text": [
      "[[ 0  1  2  3]\n",
      " [ 4  5  6  7]\n",
      " [ 8  9 10 11]] \n",
      "\n",
      "rows\n",
      "[[0 1 2 3]]\n",
      "mean 1.5 \n",
      "\n",
      "[[4 5 6 7]]\n",
      "mean 5.5 \n",
      "\n",
      "[[ 8  9 10 11]]\n",
      "mean 9.5 \n",
      "\n",
      "columns\n",
      "[0 4 8]\n",
      "mean 4.0 \n",
      "\n",
      "[1 5 9]\n",
      "mean 5.0 \n",
      "\n",
      "[ 2  6 10]\n",
      "mean 6.0 \n",
      "\n",
      "[ 3  7 11]\n",
      "mean 7.0 \n",
      "\n",
      "overall mean: 5.5\n",
      "median: 5.5\n",
      "standard deviation: 3.452052529534663\n"
     ]
    }
   ],
   "source": [
    "m = np.arange(12).reshape((3,4))\n",
    "print(m, '\\n')\n",
    "print(\"rows\")\n",
    "print(m[:1])\n",
    "print(\"mean\", np.mean(m[:1]), '\\n')\n",
    "\n",
    "print(m[1:2])\n",
    "print(\"mean\", np.mean(m[1:2]), '\\n')\n",
    "\n",
    "print(m[2:3])\n",
    "print(\"mean\", np.mean(m[2:3]), '\\n')\n",
    "\n",
    "print(\"columns\")\n",
    "print(m[:,0])\n",
    "print(\"mean\", np.mean(m[:,0]), '\\n')\n",
    "\n",
    "print(m[:,1])\n",
    "print(\"mean\", np.mean(m[:,1]), '\\n')\n",
    "\n",
    "print(m[:,2])\n",
    "print(\"mean\", np.mean(m[:,2]), '\\n')\n",
    "\n",
    "print(m[:,3])\n",
    "print(\"mean\", np.mean(m[:,3]), '\\n')\n",
    "print(\"overall mean:\", np.mean(m))\n",
    "print(\"median:\", np.median(m))\n",
    "print (\"standard deviation:\", np.std(m))"
   ]
  },
  {
   "cell_type": "markdown",
   "metadata": {},
   "source": [
    "2\\. Find the outer product of the following two vecotrs\n",
    "\n",
    "```python\n",
    "u = np.array([1,3,5,7])\n",
    "v = np.array([2,4,6,8])\n",
    "```\n",
    "\n",
    "Do this in the following ways:\n",
    "\n",
    "   * Using the function outer in numpy\n",
    "   * Using a nested for loop or list comprehension\n",
    "   * Using numpy broadcasting operatoins\n"
   ]
  },
  {
   "cell_type": "code",
   "execution_count": 228,
   "metadata": {},
   "outputs": [
    {
     "name": "stdout",
     "output_type": "stream",
     "text": [
      "[1 3 5 7] \n",
      "\n",
      "[2 4 6 8] \n",
      "\n",
      "using function outer \n",
      "\n",
      "[[ 2  4  6  8]\n",
      " [ 6 12 18 24]\n",
      " [10 20 30 40]\n",
      " [14 28 42 56]] \n",
      "\n",
      "for loop \n",
      "\n",
      "[ 2  4  6  8  6 12 18 24 10 20 30 40 14 28 42 56] \n",
      "\n",
      "[[ 2  4  6  8]\n",
      " [ 6 12 18 24]\n",
      " [10 20 30 40]\n",
      " [14 28 42 56]] \n",
      "\n",
      "numpy broadcasting operations \n",
      "\n",
      "initial array \n",
      " [[1 1 1 1]\n",
      " [3 3 3 3]\n",
      " [5 5 5 5]\n",
      " [7 7 7 7]] \n",
      "\n",
      "broadcaster multiplication : \n",
      " [[ 2  4  6  8]\n",
      " [ 6 12 18 24]\n",
      " [10 20 30 40]\n",
      " [14 28 42 56]]\n"
     ]
    }
   ],
   "source": [
    "u = np.array([1,3,5,7])\n",
    "print(u, \"\\n\")\n",
    "v = np.array([2,4,6,8])\n",
    "print(v, \"\\n\")\n",
    "print(\"using function outer\", \"\\n\")\n",
    "print(np.outer(u,v), \"\\n\")\n",
    "print(\"for loop\", \"\\n\")\n",
    "product = []\n",
    "for a in v:\n",
    "    product.append(a * u[0])\n",
    "for b in v:\n",
    "    product.append(b * u[1])\n",
    "for c in v:\n",
    "    product.append(c * u[2])\n",
    "for d in v:\n",
    "    product.append(d * u[3])\n",
    "\n",
    "product = np.array(product)\n",
    "print(product, \"\\n\")\n",
    "product = product.reshape((4,4))\n",
    "print(product, \"\\n\")\n",
    "print(\"numpy broadcasting operations\",\"\\n\")\n",
    "a = np.tile(u, (4,1)).T\n",
    "print(\"initial array\", \"\\n\",a, \"\\n\")\n",
    "print (\"broadcaster multiplication :\",\"\\n\", a*v)"
   ]
  },
  {
   "cell_type": "markdown",
   "metadata": {},
   "source": [
    "3\\. Create a 10 by 6 matrix of random uniform numbers. Set all rows with any entry less than 0.1 to be zero\n",
    "\n",
    "Hint: Use the following numpy functions - np.random.random, np.any as well as Boolean indexing and the axis argument."
   ]
  },
  {
   "cell_type": "code",
   "execution_count": 179,
   "metadata": {},
   "outputs": [
    {
     "name": "stdout",
     "output_type": "stream",
     "text": [
      "[[0.19151945 0.62210877 0.43772774 0.78535858 0.77997581 0.27259261]\n",
      " [0.27646426 0.80187218 0.95813935 0.87593263 0.35781727 0.50099513]\n",
      " [0.68346294 0.71270203 0.37025075 0.56119619 0.50308317 0.01376845]\n",
      " [0.77282662 0.88264119 0.36488598 0.61539618 0.07538124 0.36882401]\n",
      " [0.9331401  0.65137814 0.39720258 0.78873014 0.31683612 0.56809865]\n",
      " [0.86912739 0.43617342 0.80214764 0.14376682 0.70426097 0.70458131]\n",
      " [0.21879211 0.92486763 0.44214076 0.90931596 0.05980922 0.18428708]\n",
      " [0.04735528 0.67488094 0.59462478 0.53331016 0.04332406 0.56143308]\n",
      " [0.32966845 0.50296683 0.11189432 0.60719371 0.56594464 0.00676406]\n",
      " [0.61744171 0.91212289 0.79052413 0.99208147 0.95880176 0.79196414]] \n",
      "\n",
      "[[False False False False False False]\n",
      " [False False False False False False]\n",
      " [False False False False False  True]\n",
      " [False False False False  True False]\n",
      " [False False False False False False]\n",
      " [False False False False False False]\n",
      " [False False False False  True False]\n",
      " [ True False False False  True False]\n",
      " [False False False False False  True]\n",
      " [False False False False False False]] \n",
      "\n"
     ]
    }
   ],
   "source": [
    "np.random.seed(1234)\n",
    "array = np.random.rand(60).reshape(10,6)\n",
    "print(array, \"\\n\")\n",
    "array[array < 0.1] = 0\n",
    "#print(\"modified array: \"\"\\n\", array, \"\\n\")\n",
    "#row\n",
    "mask = (array < 0.1)\n",
    "print(mask, \"\\n\")\n",
    "#filtered_array = array[mask]\n",
    "#print(filtered_array, \"\\n\")"
   ]
  },
  {
   "cell_type": "code",
   "execution_count": 180,
   "metadata": {},
   "outputs": [
    {
     "name": "stdout",
     "output_type": "stream",
     "text": [
      "[[0.19151945 0.62210877 0.43772774 0.78535858 0.77997581 0.27259261]\n",
      " [0.27646426 0.80187218 0.95813935 0.87593263 0.35781727 0.50099513]\n",
      " [0.         0.         0.         0.         0.         0.        ]\n",
      " [0.         0.         0.         0.         0.         0.        ]\n",
      " [0.9331401  0.65137814 0.39720258 0.78873014 0.31683612 0.56809865]\n",
      " [0.86912739 0.43617342 0.80214764 0.14376682 0.70426097 0.70458131]\n",
      " [0.         0.         0.         0.         0.         0.        ]\n",
      " [0.         0.         0.         0.         0.         0.        ]\n",
      " [0.         0.         0.         0.         0.         0.        ]\n",
      " [0.61744171 0.91212289 0.79052413 0.99208147 0.95880176 0.79196414]]\n"
     ]
    }
   ],
   "source": [
    "#array[mask] = 0\n",
    "#array_mod = np.round(array, 2)\n",
    "#print(array_mod, \"\\n\")\n",
    "#select all rows where last value is less than 0.1\n",
    "mask_1 =(array[:,0] <= 0.1)\n",
    "mask_2 = (array[:,4] <= 0.1)\n",
    "mask_3 = (array[:,5] <= 0.1)\n",
    "\n",
    "array[mask_1,:] = 0\n",
    "array[mask_2,:] = 0\n",
    "array[mask_3,:] = 0\n",
    "print(array)"
   ]
  },
  {
   "cell_type": "code",
   "execution_count": 118,
   "metadata": {},
   "outputs": [
    {
     "data": {
      "text/plain": [
       "False"
      ]
     },
     "execution_count": 118,
     "metadata": {},
     "output_type": "execute_result"
    }
   ],
   "source": [
    "np.all(array)"
   ]
  },
  {
   "cell_type": "markdown",
   "metadata": {},
   "source": [
    "4\\. Use np.linspace to create an array of 100 numbers between 0 and 2π (includsive).\n",
    "\n",
    "  * Extract every 10th element using slice notation\n",
    "  * Reverse the array using slice notation\n",
    "  * Extract elements where the absolute difference between the sine and cosine functions evaluated at that element is less than 0.1\n",
    "  * Make a plot showing the sin and cos functions and indicate where they are close"
   ]
  },
  {
   "cell_type": "code",
   "execution_count": 165,
   "metadata": {},
   "outputs": [
    {
     "name": "stdout",
     "output_type": "stream",
     "text": [
      "the array \n",
      " [0.         0.03173326 0.06346652 0.09519978 0.12693304 0.1586663\n",
      " 0.19039955 0.22213281 0.25386607 0.28559933 0.31733259 0.34906585\n",
      " 0.38079911 0.41253237 0.44426563 0.47599889 0.50773215 0.53946541\n",
      " 0.57119866 0.60293192 0.63466518 0.66639844 0.6981317  0.72986496\n",
      " 0.76159822 0.79333148 0.82506474 0.856798   0.88853126 0.92026451\n",
      " 0.95199777 0.98373103 1.01546429 1.04719755 1.07893081 1.11066407\n",
      " 1.14239733 1.17413059 1.20586385 1.23759711 1.26933037 1.30106362\n",
      " 1.33279688 1.36453014 1.3962634  1.42799666 1.45972992 1.49146318\n",
      " 1.52319644 1.5549297  1.58666296 1.61839622 1.65012947 1.68186273\n",
      " 1.71359599 1.74532925 1.77706251 1.80879577 1.84052903 1.87226229\n",
      " 1.90399555 1.93572881 1.96746207 1.99919533 2.03092858 2.06266184\n",
      " 2.0943951  2.12612836 2.15786162 2.18959488 2.22132814 2.2530614\n",
      " 2.28479466 2.31652792 2.34826118 2.37999443 2.41172769 2.44346095\n",
      " 2.47519421 2.50692747 2.53866073 2.57039399 2.60212725 2.63386051\n",
      " 2.66559377 2.69732703 2.72906028 2.76079354 2.7925268  2.82426006\n",
      " 2.85599332 2.88772658 2.91945984 2.9511931  2.98292636 3.01465962\n",
      " 3.04639288 3.07812614 3.10985939 3.14159265] \n",
      "\n",
      "every 10th element \n",
      " [0.         0.31733259 0.63466518 0.95199777 1.26933037 1.58666296\n",
      " 1.90399555 2.22132814 2.53866073 2.85599332] \n",
      "\n",
      "the reversed array \n",
      " [3.14159265 3.10985939 3.07812614 3.04639288 3.01465962 2.98292636\n",
      " 2.9511931  2.91945984 2.88772658 2.85599332 2.82426006 2.7925268\n",
      " 2.76079354 2.72906028 2.69732703 2.66559377 2.63386051 2.60212725\n",
      " 2.57039399 2.53866073 2.50692747 2.47519421 2.44346095 2.41172769\n",
      " 2.37999443 2.34826118 2.31652792 2.28479466 2.2530614  2.22132814\n",
      " 2.18959488 2.15786162 2.12612836 2.0943951  2.06266184 2.03092858\n",
      " 1.99919533 1.96746207 1.93572881 1.90399555 1.87226229 1.84052903\n",
      " 1.80879577 1.77706251 1.74532925 1.71359599 1.68186273 1.65012947\n",
      " 1.61839622 1.58666296 1.5549297  1.52319644 1.49146318 1.45972992\n",
      " 1.42799666 1.3962634  1.36453014 1.33279688 1.30106362 1.26933037\n",
      " 1.23759711 1.20586385 1.17413059 1.14239733 1.11066407 1.07893081\n",
      " 1.04719755 1.01546429 0.98373103 0.95199777 0.92026451 0.88853126\n",
      " 0.856798   0.82506474 0.79333148 0.76159822 0.72986496 0.6981317\n",
      " 0.66639844 0.63466518 0.60293192 0.57119866 0.53946541 0.50773215\n",
      " 0.47599889 0.44426563 0.41253237 0.38079911 0.34906585 0.31733259\n",
      " 0.28559933 0.25386607 0.22213281 0.19039955 0.1586663  0.12693304\n",
      " 0.09519978 0.06346652 0.03173326 0.        ] \n",
      "\n",
      "the mask [False False False False False False False False False False False False\n",
      " False False False False False False False False False False False  True\n",
      "  True  True  True False False False False False False False False False\n",
      " False False False False False False False False False False False False\n",
      " False False False False False False False False False False False False\n",
      " False False False False False False False False False False False False\n",
      " False False False False False False False False False False False False\n",
      " False False False False False False False False False False False False\n",
      " False False False False] \n",
      "\n",
      "filtered array [0.72986496 0.76159822 0.79333148 0.82506474] \n",
      "\n"
     ]
    },
    {
     "data": {
      "text/plain": [
       "<matplotlib.legend.Legend at 0x15034bc3820>"
      ]
     },
     "execution_count": 165,
     "metadata": {},
     "output_type": "execute_result"
    },
    {
     "data": {
      "image/png": "[encoded data removed]",
      "text/plain": [
       "<Figure size 432x288 with 1 Axes>"
      ]
     },
     "metadata": {
      "needs_background": "light"
     },
     "output_type": "display_data"
    }
   ],
   "source": [
    "import math\n",
    "m = np.linspace(0,math.pi,100)\n",
    "print(\"the array\", \"\\n\", m, \"\\n\")\n",
    "\n",
    "#extract every 10th element\n",
    "print(\"every 10th element\", \"\\n\", m[0:100:10], \"\\n\")\n",
    "\n",
    "#reverse the array\n",
    "print(\"the reversed array\", \"\\n\", m[::-1], \"\\n\")\n",
    "\n",
    "#sin cos diff < 0.1\n",
    "diffmask = (abs(np.cos(m) - np.sin(m)) < 0.1)\n",
    "print(\"the mask\", diffmask, \"\\n\")\n",
    "filtered_m = m[diffmask]\n",
    "print(\"filtered array\", filtered_m, \"\\n\")\n",
    "\n",
    "#plot sin and cos\n",
    "import matplotlib.pyplot as plt\n",
    "%matplotlib inline\n",
    "\n",
    "ys = np.sin(m)\n",
    "plt.plot(m,ys, 'r')\n",
    "yc = np.cos(m)\n",
    "plt.plot(m,yc, 'r')\n",
    "plt.axvline(x = 0.72, ymin = -1, ymax = 1, label = \"region where sin and cos are close\")\n",
    "plt.axvline(x = 0.83, ymin = -1, ymax = 1)\n",
    "plt.legend(loc = \"upper left\")"
   ]
  },
  {
   "cell_type": "markdown",
   "metadata": {},
   "source": [
    "5\\. Create a matrix that shows the 10 by 10 multiplication table.\n",
    "\n",
    " * Find the trace of the matrix\n",
    " * Extract the anto-diagonal (this should be ```array([10, 18, 24, 28, 30, 30, 28, 24, 18, 10])```)\n",
    " * Extract the diagnoal offset by 1 upwards (this should be ```array([ 2,  6, 12, 20, 30, 42, 56, 72, 90])```)"
   ]
  },
  {
   "cell_type": "code",
   "execution_count": 81,
   "metadata": {},
   "outputs": [
    {
     "name": "stdout",
     "output_type": "stream",
     "text": [
      "[[  1   2   3   4   5   6   7   8   9  10]\n",
      " [  2   4   6   8  10  12  14  16  18  20]\n",
      " [  3   6   9  12  15  18  21  24  27  30]\n",
      " [  4   8  12  16  20  24  28  32  36  40]\n",
      " [  5  10  15  20  25  30  35  40  45  50]\n",
      " [  6  12  18  24  30  36  42  48  54  60]\n",
      " [  7  14  21  28  35  42  49  56  63  70]\n",
      " [  8  16  24  32  40  48  56  64  72  80]\n",
      " [  9  18  27  36  45  54  63  72  81  90]\n",
      " [ 10  20  30  40  50  60  70  80  90 100]] \n",
      "\n",
      "385 \n",
      "\n"
     ]
    }
   ],
   "source": [
    "\n",
    "#10x10 matrix table\n",
    "#fromfunction\n",
    "tens = np.fromfunction(lambda i = 1, j = 1: i*j , (11,11))\n",
    "#print(tens, \"\\n\")\n",
    "\n",
    "#arange function\n",
    "tenbiten = np.arange(1,11)\n",
    "tenbi = np.outer(tenbiten,tenbiten)\n",
    "print(tenbi, \"\\n\")\n",
    "\n",
    "\n",
    "#trace\n",
    "print(sum(np.diag(tenbi)), \"\\n\")\n"
   ]
  },
  {
   "cell_type": "code",
   "execution_count": 80,
   "metadata": {},
   "outputs": [
    {
     "name": "stdout",
     "output_type": "stream",
     "text": [
      "[[ 10  20  30  40  50  60  70  80  90 100]\n",
      " [  9  18  27  36  45  54  63  72  81  90]\n",
      " [  8  16  24  32  40  48  56  64  72  80]\n",
      " [  7  14  21  28  35  42  49  56  63  70]\n",
      " [  6  12  18  24  30  36  42  48  54  60]\n",
      " [  5  10  15  20  25  30  35  40  45  50]\n",
      " [  4   8  12  16  20  24  28  32  36  40]\n",
      " [  3   6   9  12  15  18  21  24  27  30]\n",
      " [  2   4   6   8  10  12  14  16  18  20]\n",
      " [  1   2   3   4   5   6   7   8   9  10]]\n",
      "anti-diagonal of matrix\n"
     ]
    },
    {
     "data": {
      "text/plain": [
       "array([10, 18, 24, 28, 30, 30, 28, 24, 18, 10])"
      ]
     },
     "execution_count": 80,
     "metadata": {},
     "output_type": "execute_result"
    }
   ],
   "source": [
    "#anti-diagonal\n",
    "antitenbi = tenbi[::-1]\n",
    "print(antitenbi)\n",
    "print(\"anti-diagonal of matrix\")\n",
    "np.diagonal(antitenbi, offset=0, axis1=0, axis2=1)"
   ]
  },
  {
   "cell_type": "code",
   "execution_count": 79,
   "metadata": {},
   "outputs": [
    {
     "data": {
      "text/plain": [
       "array([ 2,  6, 12, 20, 30, 42, 56, 72, 90])"
      ]
     },
     "execution_count": 79,
     "metadata": {},
     "output_type": "execute_result"
    }
   ],
   "source": [
    "#offset diagonal\n",
    "np.diagonal(tenbi, offset=1, axis1=0, axis2=1)"
   ]
  },
  {
   "cell_type": "markdown",
   "metadata": {},
   "source": [
    "6\\. Use broadcasting to create a grid of distances\n",
    "\n",
    "Route 66 crosses the following cities in the US: Chicago, Springfield, Saint-Louis, Tulsa, Oklahoma City, Amarillo, Santa Fe, Albuquerque, Flagstaff, Los Angeles\n",
    "The corresponding positions in miles are: 0, 198, 303, 736, 871, 1175, 1475, 1544, 1913, 2448\n",
    "\n",
    "  * Construct a 2D grid of distances among each city along Route 66\n",
    "  * Convert that in km (those savages...)"
   ]
  },
  {
   "cell_type": "code",
   "execution_count": 215,
   "metadata": {},
   "outputs": [
    {
     "name": "stdout",
     "output_type": "stream",
     "text": [
      "[[   0  198  303  736  871 1175 1475 1544 1913 2448]\n",
      " [ 198    0  105  538  673  977 1277 1346 1715 2250]\n",
      " [ 303  105    0  433  568  872 1172 1241 1610 2145]\n",
      " [ 736  538  433    0  135  439  739  808 1177 1712]\n",
      " [ 871  673  568  135    0  304  604  673 1042 1577]\n",
      " [1175  977  872  439  304    0  300  369  738 1273]\n",
      " [1475 1277 1172  739  604  300    0   69  438  973]\n",
      " [1544 1346 1241  808  673  369   69    0  369  904]\n",
      " [1913 1715 1610 1177 1042  738  438  369    0  535]\n",
      " [2448 2250 2145 1712 1577 1273  973  904  535    0]] \n",
      "\n",
      "[[   0.   318.7  487.6 1184.5 1401.7 1891.  2373.8 2484.8 3078.7 3939.7]\n",
      " [ 318.7    0.   169.   865.8 1083.1 1572.3 2055.1 2166.2 2760.  3621. ]\n",
      " [ 487.6  169.     0.   696.8  914.1 1403.4 1886.2 1997.2 2591.  3452. ]\n",
      " [1184.5  865.8  696.8    0.   217.3  706.5 1189.3 1300.4 1894.2 2755.2]\n",
      " [1401.7 1083.1  914.1  217.3    0.   489.2  972.  1083.1 1676.9 2537.9]\n",
      " [1891.  1572.3 1403.4  706.5  489.2    0.   482.8  593.8 1187.7 2048.7]\n",
      " [2373.8 2055.1 1886.2 1189.3  972.   482.8    0.   111.   704.9 1565.9]\n",
      " [2484.8 2166.2 1997.2 1300.4 1083.1  593.8  111.     0.   593.8 1454.8]\n",
      " [3078.7 2760.  2591.  1894.2 1676.9 1187.7  704.9  593.8    0.   861. ]\n",
      " [3939.7 3621.  3452.  2755.2 2537.9 2048.7 1565.9 1454.8  861.     0. ]]\n",
      "resultant array \n",
      " [['n/a' 'Chicago' 'Springfield' 'S-L' 'Tulsa' 'OC' 'Amarillo' 'SF'\n",
      "  'Albuquerque' 'Flagstaff' 'LA']\n",
      " ['Chicago' '0.0' '318.7' '487.6' '1184.5' '1401.7' '1891.0' '2373.8'\n",
      "  '2484.8' '3078.7' '3939.7']\n",
      " ['Springfield' '318.7' '0.0' '169.0' '865.8' '1083.1' '1572.3' '2055.1'\n",
      "  '2166.2' '2760.0' '3621.0']\n",
      " ['S-L' '487.6' '169.0' '0.0' '696.8' '914.1' '1403.4' '1886.2' '1997.2'\n",
      "  '2591.0' '3452.0']\n",
      " ['Tulsa' '1184.5' '865.8' '696.8' '0.0' '217.3' '706.5' '1189.3'\n",
      "  '1300.4' '1894.2' '2755.2']\n",
      " ['OC' '1401.7' '1083.1' '914.1' '217.3' '0.0' '489.2' '972.0' '1083.1'\n",
      "  '1676.9' '2537.9']\n",
      " ['Amarillo' '1891.0' '1572.3' '1403.4' '706.5' '489.2' '0.0' '482.8'\n",
      "  '593.8' '1187.7' '2048.7']\n",
      " ['SF' '2373.8' '2055.1' '1886.2' '1189.3' '972.0' '482.8' '0.0' '111.0'\n",
      "  '704.9' '1565.9']\n",
      " ['Albuquerque' '2484.8' '2166.2' '1997.2' '1300.4' '1083.1' '593.8'\n",
      "  '111.0' '0.0' '593.8' '1454.8']\n",
      " ['Flagstaff' '3078.7' '2760.0' '2591.0' '1894.2' '1676.9' '1187.7'\n",
      "  '704.9' '593.8' '0.0' '861.0']\n",
      " ['LA' '3939.7' '3621.0' '3452.0' '2755.2' '2537.9' '2048.7' '1565.9'\n",
      "  '1454.8' '861.0' '0.0']]\n"
     ]
    }
   ],
   "source": [
    "#distances grid\n",
    "a = np.array([0, 198, 303, 736, 871, 1175, 1475, 1544, 1913, 2448])\n",
    "b = a.reshape(10,1)\n",
    "#print (a, \"\\n\")\n",
    "#print (b, \"\\n\")\n",
    "#to find distance between each city in the grid\n",
    "c = abs(a - b)\n",
    "print (c, \"\\n\")\n",
    "d = (c / 0.62137)\n",
    "d = np.round(d, 1)\n",
    "print(d)\n",
    "\n",
    "# Array to be added as column\n",
    "column_to_be_added = np.array([\"Chicago\", \"Springfield\", \"S-L\", \"Tulsa\", \"OC\", \"Amarillo\", \"SF\", \"Albuquerque\", \"Flagstaff\", \"LA\"])\n",
    " \n",
    "# Adding column to numpy array\n",
    "result = np.column_stack((column_to_be_added, d))\n",
    "#print(result)\n",
    "\n",
    "# Array to be added as row\n",
    "row_to_be_added = np.array([\"n/a\", \"Chicago\", \"Springfield\", \"S-L\", \"Tulsa\", \"OC\", \"Amarillo\", \"SF\", \"Albuquerque\", \"Flagstaff\", \"LA\"])\n",
    " \n",
    "# Adding row to numpy array\n",
    "result1 = np.vstack ((row_to_be_added, result))\n",
    " \n",
    "# printing result\n",
    "print (\"resultant array\", \"\\n\", str(result1))\n",
    "\n",
    "#this looks ugly but i tried "
   ]
  },
  {
   "cell_type": "markdown",
   "metadata": {},
   "source": [
    "7\\. Prime numbers sieve: compute the prime numbers in the 0-N (N=99 to start with) range with a sieve (mask).\n",
    "  * Constract a shape (100,) boolean array, the mask\n",
    "  * Identify the multiples of each number starting from 2 and set accordingly the corresponding mask element\n",
    "  * Apply the mask to obtain an array of ordered prime numbers\n",
    "  * Check the performances (timeit); how does it scale with N?\n",
    "  * Implement the optimization suggested in the [sieve of Eratosthenes](https://en.wikipedia.org/wiki/Sieve_of_Eratosthenes)"
   ]
  },
  {
   "cell_type": "code",
   "execution_count": 295,
   "metadata": {},
   "outputs": [
    {
     "name": "stdout",
     "output_type": "stream",
     "text": [
      "381 µs ± 19.2 µs per loop (mean ± std. dev. of 7 runs, 1000 loops each)\n",
      "41.4 ms ± 2.29 ms per loop (mean ± std. dev. of 7 runs, 10 loops each)\n",
      "259 ms ± 18.3 ms per loop (mean ± std. dev. of 7 runs, 1 loop each)\n",
      "970 ms ± 63.6 ms per loop (mean ± std. dev. of 7 runs, 1 loop each)\n"
     ]
    }
   ],
   "source": [
    "def primes(n):\n",
    "    matrix = np.arange(2,n+1,1)\n",
    "    #matrix.reshape(10,10)\n",
    "    matrix_mask = np.array(matrix, dtype = bool)\n",
    "    for i in range(n):\n",
    "        for j in range(2,i):\n",
    "            if matrix[i-1] % j == 0:\n",
    "                matrix_mask[i-1] = False\n",
    "    return matrix[matrix_mask]\n",
    "    \n",
    "%timeit primes(20)\n",
    "%timeit primes(200) # N inc by factor of 10, and so does time\n",
    "%timeit primes(500)\n",
    "%timeit primes(1000) # N inc by factor 2, time inc similarly\n",
    "\n",
    "#as N increases, so does the time required"
   ]
  },
  {
   "cell_type": "code",
   "execution_count": 293,
   "metadata": {},
   "outputs": [
    {
     "name": "stdout",
     "output_type": "stream",
     "text": [
      "91.6 µs ± 16.7 µs per loop (mean ± std. dev. of 7 runs, 10000 loops each)\n"
     ]
    }
   ],
   "source": [
    "def SieveOfEratosthenes(n): \n",
    "      \n",
    "    # Create a boolean array \"prime[0..n]\" and initialize \n",
    "    # all entries it as true. A value in prime[i] will \n",
    "    # finally be false if i is Not a prime, else true. \n",
    "    prime = [True for i in range(n + 1)] \n",
    "    p = 2\n",
    "    while (p * p <= n): \n",
    "          \n",
    "        # If prime[p] is not changed, then it is a prime \n",
    "        if (prime[p] == True): \n",
    "              \n",
    "            # Update all multiples of p \n",
    "            for i in range(p * 2, n + 1, p): \n",
    "                prime[i] = False\n",
    "                p += 1\n",
    "    prime[0]= False\n",
    "    prime[1]= False\n",
    "    # Print all prime numbers \n",
    "    primes = []\n",
    "    for p in range(n + 1): \n",
    "        if prime[p]: \n",
    "            primes.append(p)\n",
    "    return primes\n",
    "\n",
    "SieveOfEratosthenes(100)\n",
    "\n",
    "%timeit SieveOfEratosthenes(250)"
   ]
  },
  {
   "cell_type": "markdown",
   "metadata": {},
   "source": [
    "8\\. Diffusion using random walk\n",
    "\n",
    "Consider a simple random walk process: at each step in time, a walker jumps right or left (+1 or -1) with equal probability. The goal is to find the typical distance from the origin of a random walker after a given amount of time. \n",
    "To do that, let's simulate many walkers and create a 2D array with each walker as a raw and the actual time evolution as columns\n",
    "\n",
    "  * Take 1000 walkers and let them walk for 200 steps\n",
    "  * Use randint to create a 2D array of size walkers x steps with values -1 or 1\n",
    "  * Build the actual walking distances for each walker (i.e. another 2D array \"summing on each raw\")\n",
    "  * Take the square of that 2D array (elementwise)\n",
    "  * Compute the mean of the squared distances at each step (i.e. the mean along the columns)\n",
    "  * Plot the average distances (sqrt(distance\\*\\*2)) as a function of time (step)\n",
    "  \n",
    "Did you get what you expected?"
   ]
  },
  {
   "cell_type": "code",
   "execution_count": 10,
   "metadata": {},
   "outputs": [
    {
     "data": {
      "text/plain": [
       "[<matplotlib.lines.Line2D at 0x1eb37ba1e80>]"
      ]
     },
     "execution_count": 10,
     "metadata": {},
     "output_type": "execute_result"
    },
    {
     "data": {
      "image/png": "[encoded data removed]",
      "text/plain": [
       "<Figure size 432x288 with 1 Axes>"
      ]
     },
     "metadata": {
      "needs_background": "light"
     },
     "output_type": "display_data"
    }
   ],
   "source": [
    "#1D random walk \n",
    "def randomwalk1D(n):\n",
    "    #n is number of steps\n",
    "    x = 0\n",
    "    y = 0\n",
    "    xposition = [0] \n",
    "    yposition = [0] #starts from zero\n",
    "    \n",
    "    for i in range(1, n+1):\n",
    "        step = np.random.uniform(0,1)\n",
    "        \n",
    "        if step < 0.5: #jump up in y\n",
    "            x += 1\n",
    "            y += 1\n",
    "        if step > 0.5: #jump down in y\n",
    "            x += 1\n",
    "            y += -1\n",
    "            \n",
    "        xposition.append(x)\n",
    "        yposition.append(y)\n",
    "    \n",
    "    return [xposition, yposition]\n",
    "randwalk = randomwalk1D(200)\n",
    "plt.plot(randwalk[0], randwalk[1])"
   ]
  },
  {
   "cell_type": "markdown",
   "metadata": {},
   "source": [
    "9\\. Analyze a data file \n",
    "  * Download the population of hares, lynxes and carrots at the beginning of the last century.\n",
    "    ```python\n",
    "    ! wget https://www.dropbox.com/s/3vigxoqayo389uc/populations.txt\n",
    "    ```\n",
    "\n",
    "  * Check the content by looking within the file\n",
    "  * Load the data (use an appropriate numpy method) into a 2D array\n",
    "  * Create arrays out of the columns, the arrays being (in order): *year*, *hares*, *lynxes*, *carrots* \n",
    "  * Plot the 3 populations over the years\n",
    "  * Compute the main statistical properties of the dataset (mean, std, correlations, etc.)\n",
    "  * Which species has the highest population each year?\n",
    "\n",
    "Do you feel there is some evident correlation here? [Studies](https://www.enr.gov.nt.ca/en/services/lynx/lynx-snowshoe-hare-cycle) tend to believe so."
   ]
  },
  {
   "cell_type": "code",
   "execution_count": 96,
   "metadata": {},
   "outputs": [
    {
     "name": "stdout",
     "output_type": "stream",
     "text": [
      "[[ 1900. 30000.  4000. 48300.]\n",
      " [ 1901. 47200.  6100. 48200.]\n",
      " [ 1902. 70200.  9800. 41500.]\n",
      " [ 1903. 77400. 35200. 38200.]\n",
      " [ 1904. 36300. 59400. 40600.]\n",
      " [ 1905. 20600. 41700. 39800.]\n",
      " [ 1906. 18100. 19000. 38600.]\n",
      " [ 1907. 21400. 13000. 42300.]\n",
      " [ 1908. 22000.  8300. 44500.]\n",
      " [ 1909. 25400.  9100. 42100.]\n",
      " [ 1910. 27100.  7400. 46000.]\n",
      " [ 1911. 40300.  8000. 46800.]\n",
      " [ 1912. 57000. 12300. 43800.]\n",
      " [ 1913. 76600. 19500. 40900.]\n",
      " [ 1914. 52300. 45700. 39400.]\n",
      " [ 1915. 19500. 51100. 39000.]\n",
      " [ 1916. 11200. 29700. 36700.]\n",
      " [ 1917.  7600. 15800. 41800.]\n",
      " [ 1918. 14600.  9700. 43300.]\n",
      " [ 1919. 16200. 10100. 41300.]\n",
      " [ 1920. 24700.  8600. 47300.]]\n"
     ]
    }
   ],
   "source": [
    "array = np.loadtxt(\"./populations.txt\")\n",
    "print(array)"
   ]
  },
  {
   "cell_type": "code",
   "execution_count": 38,
   "metadata": {},
   "outputs": [
    {
     "name": "stdout",
     "output_type": "stream",
     "text": [
      "years [1900. 1901. 1902. 1903. 1904. 1905. 1906. 1907. 1908. 1909. 1910. 1911.\n",
      " 1912. 1913. 1914. 1915. 1916. 1917. 1918. 1919. 1920.] \n",
      "\n",
      "hares [30000. 47200. 70200. 77400. 36300. 20600. 18100. 21400. 22000. 25400.\n",
      " 27100. 40300. 57000. 76600. 52300. 19500. 11200.  7600. 14600. 16200.\n",
      " 24700.] \n",
      "\n",
      "lynxes [ 4000.  6100.  9800. 35200. 59400. 41700. 19000. 13000.  8300.  9100.\n",
      "  7400.  8000. 12300. 19500. 45700. 51100. 29700. 15800.  9700. 10100.\n",
      "  8600.] \n",
      "\n",
      "carrots [48300. 48200. 41500. 38200. 40600. 39800. 38600. 42300. 44500. 42100.\n",
      " 46000. 46800. 43800. 40900. 39400. 39000. 36700. 41800. 43300. 41300.\n",
      " 47300.] \n",
      "\n"
     ]
    }
   ],
   "source": [
    "year = array[0:,0]\n",
    "print(\"years\", year, \"\\n\")\n",
    "hares = array[0:,1]\n",
    "print(\"hares\", hares, \"\\n\")\n",
    "lynxes = array[0:,2]\n",
    "print(\"lynxes\", lynxes, \"\\n\")\n",
    "carrots = array[0:,3]\n",
    "print(\"carrots\", carrots, \"\\n\")"
   ]
  },
  {
   "cell_type": "code",
   "execution_count": 98,
   "metadata": {},
   "outputs": [
    {
     "name": "stdout",
     "output_type": "stream",
     "text": [
      "[[4.58558619e+08 2.56418333e+07]\n",
      " [2.56418333e+07 2.77422333e+08]]\n"
     ]
    },
    {
     "data": {
      "image/png": "[encoded data removed]",
      "text/plain": [
       "<Figure size 432x288 with 1 Axes>"
      ]
     },
     "metadata": {
      "needs_background": "light"
     },
     "output_type": "display_data"
    }
   ],
   "source": [
    "plt.plot(year, hares)\n",
    "plt.plot(year, lynxes, 'r')\n",
    "plt.plot(year, carrots, 'g')\n",
    "from numpy import cov\n",
    "covariance = cov(hares, lynxes)\n",
    "print(covariance)"
   ]
  },
  {
   "cell_type": "code",
   "execution_count": 56,
   "metadata": {},
   "outputs": [
    {
     "name": "stdout",
     "output_type": "stream",
     "text": [
      "hares mean, std: 34081.0 20897.906458089667\n",
      "carrots mean, std: 42400.0 3322.5062255844787\n",
      "lynxes mean, std: 20166.666666666668 16254.591536908763\n"
     ]
    }
   ],
   "source": [
    "mean_hares = np.mean(hares)\n",
    "mean_hares = np.round(mean_hares) #can't have half a hare!\n",
    "std_hares = np.std(hares)\n",
    "print(\"hares mean, std:\", mean_hares, std_hares)\n",
    "print(\"carrots mean, std:\", np.mean(carrots), np.std(carrots))\n",
    "print(\"lynxes mean, std:\", np.mean(lynxes), np.std(lynxes))"
   ]
  },
  {
   "cell_type": "code",
   "execution_count": 99,
   "metadata": {},
   "outputs": [
    {
     "name": "stdout",
     "output_type": "stream",
     "text": [
      "carrots\n",
      "carrots\n",
      "hares\n",
      "hares\n",
      "lynxes\n",
      "lynxes\n",
      "carrots\n",
      "carrots\n",
      "carrots\n",
      "carrots\n",
      "carrots\n",
      "carrots\n",
      "hares\n",
      "hares\n",
      "hares\n",
      "lynxes\n",
      "carrots\n",
      "carrots\n",
      "carrots\n",
      "carrots\n",
      "carrots\n"
     ]
    }
   ],
   "source": [
    "#highest population\n",
    "array_maxvalue = array.max(axis=1)\n",
    "for i in range(21):\n",
    "    if array_maxvalue[i] == hares[i]:\n",
    "        print('hares')\n",
    "    elif array_maxvalue[i] == lynxes[i]:\n",
    "        print('lynxes')\n",
    "    else:\n",
    "        print('carrots')\n",
    "#yes, it cycles through carrots to hares to lynxes as being the most abundent bc more carrots means more food for hares which means more food for lynxes"
   ]
  },
  {
   "cell_type": "code",
   "execution_count": null,
   "metadata": {},
   "outputs": [],
   "source": []
  }
 ],
 "metadata": {
  "kernelspec": {
   "display_name": "Python 3",
   "language": "python",
   "name": "python3"
  },
  "language_info": {
   "codemirror_mode": {
    "name": "ipython",
    "version": 3
   },
   "file_extension": ".py",
   "mimetype": "text/x-python",
   "name": "python",
   "nbconvert_exporter": "python",
   "pygments_lexer": "ipython3",
   "version": "3.8.3"
  }
 },
 "nbformat": 4,
 "nbformat_minor": 2
}
