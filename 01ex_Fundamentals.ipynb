{
 "cells": [
  {
   "cell_type": "markdown",
   "metadata": {},
   "source": [
    "1\\. Write the following as a list comprehension"
   ]
  },
  {
   "cell_type": "code",
   "execution_count": 5,
   "metadata": {},
   "outputs": [
    {
     "name": "stdout",
     "output_type": "stream",
     "text": [
      "[(0, 0), (0, 1), (0, 2), (0, 3), (1, 0), (1, 1), (1, 2), (1, 3), (2, 0), (2, 1), (2, 2), (2, 3)]\n",
      "[0, 4, 16]\n"
     ]
    }
   ],
   "source": [
    "# 1\n",
    "ans = []\n",
    "for i in range(3):\n",
    "    for j in range(4):\n",
    "        ans.append((i, j))\n",
    "print (ans)\n",
    "\n",
    "\n",
    "\n",
    "# 2\n",
    "ans = map(lambda x: x*x, filter(lambda x: x%2 == 0, range(5)))\n",
    "print (list(ans))\n",
    "\n"
   ]
  },
  {
   "cell_type": "code",
   "execution_count": 16,
   "metadata": {},
   "outputs": [
    {
     "name": "stdout",
     "output_type": "stream",
     "text": [
      "[(0, 0), (0, 1), (0, 2), (0, 3), (1, 0), (1, 1), (1, 2), (1, 3), (2, 0), (2, 1), (2, 2), (2, 3)]\n",
      "[0, 4, 16]\n"
     ]
    }
   ],
   "source": [
    "#1\n",
    "\n",
    "ans = [(i,j) for i in range(3) for j in range(4)]\n",
    "print(ans)\n",
    "\n",
    "#2\n",
    "\n",
    "#ans = []\n",
    "#[ans.append(x*x) for x in range(5) if x%2 == 0]\n",
    "#print(ans)\n",
    "\n",
    "ans = [x*x for x in range(5) if x%2 == 0]\n",
    "print(ans)"
   ]
  },
  {
   "cell_type": "markdown",
   "metadata": {},
   "source": [
    "2\\. Convert the following function into a pure function with no global variables or side effects"
   ]
  },
  {
   "cell_type": "code",
   "execution_count": 22,
   "metadata": {},
   "outputs": [
    {
     "name": "stdout",
     "output_type": "stream",
     "text": [
      "[1, 2, 3, 0, 1, 2, 3, 4]\n",
      "[1, 2, 3]\n"
     ]
    }
   ],
   "source": [
    "x = 5\n",
    "def f(alist):\n",
    "    ans = []\n",
    "    for i in range(x):\n",
    "         ans.append(i)\n",
    "    return alist + ans\n",
    "\n",
    "alist = [1,2,3]\n",
    "ans = f(alist)\n",
    "print (ans)\n",
    "print (alist) # alist has been changed! Not anymore!"
   ]
  },
  {
   "cell_type": "code",
   "execution_count": 20,
   "metadata": {},
   "outputs": [
    {
     "data": {
      "text/plain": [
       "[1, 4, 5, 3, 5, 9]"
      ]
     },
     "execution_count": 20,
     "metadata": {},
     "output_type": "execute_result"
    }
   ],
   "source": [
    "b_list = [1,4,5]\n",
    "c_list = [3,5,9]\n",
    "b_list + c_list"
   ]
  },
  {
   "cell_type": "markdown",
   "metadata": {},
   "source": [
    "3\\. Write a `decorator` hello that makes every wrapped function print “Hello!”, i.e. something like:\n",
    "\n",
    "```python\n",
    "@hello\n",
    "def square(x):\n",
    "    return x*x\n",
    "```\n",
    "\n"
   ]
  },
  {
   "cell_type": "code",
   "execution_count": 35,
   "metadata": {},
   "outputs": [
    {
     "name": "stdout",
     "output_type": "stream",
     "text": [
      "9\n",
      "Hello!\n",
      "64\n",
      "Hello!\n"
     ]
    }
   ],
   "source": [
    "def hello(func):\n",
    "    def wrapper(*arg):\n",
    "        print(func(*arg))\n",
    "        print(\"Hello!\")\n",
    "    return wrapper\n",
    "\n",
    "@hello\n",
    "def square(x):\n",
    "    return x*x\n",
    "\n",
    "@hello\n",
    "def cube(x):\n",
    "    return x**3\n",
    "\n",
    "square(3)\n",
    "cube(4)"
   ]
  },
  {
   "cell_type": "markdown",
   "metadata": {},
   "source": [
    "4\\. Write the factorial function so that it a) does and b) does not use recursion."
   ]
  },
  {
   "cell_type": "code",
   "execution_count": 70,
   "metadata": {},
   "outputs": [
    {
     "name": "stdout",
     "output_type": "stream",
     "text": [
      "120\n"
     ]
    }
   ],
   "source": [
    "def factorial(x):\n",
    "    \"resursive function\"\n",
    "\n",
    "    if x == 1:\n",
    "        return 1\n",
    "    else:\n",
    "        return (x * factorial(x-1))\n",
    "print(factorial(5))"
   ]
  },
  {
   "cell_type": "code",
   "execution_count": 71,
   "metadata": {},
   "outputs": [
    {
     "name": "stdout",
     "output_type": "stream",
     "text": [
      "120\n"
     ]
    }
   ],
   "source": [
    "#a) no recursion\n",
    "#define factorial function\n",
    "\n",
    "def fact_func_b(x):\n",
    "  \n",
    "    factorial = 1\n",
    "    #first value\n",
    "    if x < 0:\n",
    "        print(\"[N/A]\")\n",
    "    elif x == 0:\n",
    "        print([1])\n",
    "    else:\n",
    "        for i in range(1,x + 1):\n",
    "            factorial = factorial*i\n",
    "        print(factorial)\n",
    "\n",
    "fact_func_b(5)"
   ]
  },
  {
   "cell_type": "markdown",
   "metadata": {},
   "source": [
    "5\\. Use HOFs (zip in particular) to compute the weight of a circle, a disk and a sphere, assuming different radii and different densities:\n",
    "\n",
    "```python\n",
    "densities = {\"Al\":[0.5,1,2],\"Fe\":[3,4,5],\"Pb\": [15,20,30]}\n",
    "radii = [1,2,3]\n",
    "```\n",
    "\n",
    "where the entries of the dictionary's values are the linear, superficial and volumetric densities of the materials respectively.\n",
    "\n",
    "In particular define a list of three lambda functions using a comprehension that computes the circumference, the area and the volume for a given radius.\n"
   ]
  },
  {
   "cell_type": "code",
   "execution_count": 86,
   "metadata": {},
   "outputs": [
    {
     "name": "stdout",
     "output_type": "stream",
     "text": [
      "[6.283185307179586, 12.566370614359172, 18.84955592153876]\n",
      "[3.141592653589793, 12.566370614359172, 28.274333882308138]\n",
      "[4.1887902047863905, 33.510321638291124, 113.09733552923254]\n",
      "0.5 3 15 \n",
      "\n",
      "1 4 20 \n",
      "\n",
      "2 5 30 \n",
      "\n",
      "for r = 1 \n",
      "\n",
      "Al:  3.141592653589793\n",
      "Al:  8.377580409572781\n"
     ]
    }
   ],
   "source": [
    "import math\n",
    "densities = {\"Al\":[0.5,1,2],\"Fe\":[3,4,5],\"Pb\": [15,20,30]}\n",
    "radii = [1,2,3]\n",
    "\n",
    "circ = list(map(lambda r: 2 * math.pi * r, radii))\n",
    "print(circ)\n",
    "\n",
    "area = list(map(lambda a: math.pi * (a * a), radii))\n",
    "print(area)\n",
    "\n",
    "vol = list(map(lambda x: 4/3 * math.pi * x ** 3, radii))\n",
    "print(vol)\n",
    "\n",
    "al = densities[\"Al\"]\n",
    "fe = densities[\"Fe\"]\n",
    "pb = densities[\"Pb\"]\n",
    "\n",
    "#WEIGHT OF CIRCLE\n",
    "#-  circ * linear density\n",
    "#WEIGHT OF DISK\n",
    "#- area * superficial densitiy\n",
    "#WEIGHT OF SPHERE\n",
    "#- volume * volumetric density\n",
    "\n",
    "for x, y, z in zip(al, fe, pb):\n",
    "    print (x,y,z, \"\\n\")\n",
    "    \n",
    "#for r = 1\n",
    "#multiply Al[0] by circ, Al[1] by area and Al[2] by vol then same for Fe and Pb\n",
    "#for r = 2 same\n",
    "#for r = 3 same\n",
    "#print(\"Al: \", al * circ[0])\n",
    "\n",
    "print(\"for r = 1\", \"\\n\")\n",
    "for i in al:\n",
    "    if i == 0:\n",
    "        print(\"Al: \", i * circ[0])\n",
    "    elif i == 1:\n",
    "        print(\"Al: \", i * area[0])\n",
    "    elif i == 2:\n",
    "        print(\"Al: \", i * vol[0])\n",
    "for i in fe:\n",
    "    if i == 0:\n",
    "        print(\"Fe: \", i * circ[0])\n",
    "    elif i == 1:\n",
    "        print(\"Fe: \", i * area[0])\n",
    "    elif i == 2:\n",
    "        print(\"Fe: \", i * vol[0])\n"
   ]
  },
  {
   "cell_type": "code",
   "execution_count": 85,
   "metadata": {},
   "outputs": [],
   "source": [
    "for i in radii:\n",
    "    for j in densities:\n",
    "        for k in j:\n",
    "            if k == 0:\n",
    "                print(densities[j][k] * 2 * math.pi * radii[i])\n",
    "            elif k == 1:\n",
    "                print(densities[j][k] * math.pi * (radii[i] ** 2))\n",
    "            elif k == 2:\n",
    "                print(densities[j][k] * 4/3 * math.pi * (radii[i] ** 3))\n",
    "                "
   ]
  },
  {
   "cell_type": "markdown",
   "metadata": {},
   "source": [
    "6\\. Edit the class defintion to add an instance attribute of is_hungry = True to the Dog class. Then add a method called eat() which changes the value of is_hungry to False when called. Figure out the best way to feed each dog and then output “My dogs are hungry.” if all are hungry or “My dogs are not hungry.” if all are not hungry. The final output should look like this:\n",
    "\n",
    "`I have 3 dogs. \n",
    "Tom is 6. \n",
    "Fletcher is 7. \n",
    "Larry is 9. \n",
    "And they're all mammals, of course. \n",
    "My dogs are not hungry.\n",
    "`\n",
    "\n",
    "```python\n",
    "# Parent class\n",
    "class Dog:\n",
    "\n",
    "    # Class attribute\n",
    "    species = 'mammal'\n",
    "\n",
    "    # Initializer / Instance attributes\n",
    "    def __init__(self, name, age):\n",
    "        self.name = name\n",
    "        self.age = age\n",
    "\n",
    "    # instance method\n",
    "    def description(self):\n",
    "        return \"{} is {} years old\".format(self.name, self.age)\n",
    "\n",
    "    # instance method\n",
    "    def speak(self, sound):\n",
    "        return \"{} says {}\".format(self.name, sound)\n",
    "\n",
    "# Child class (inherits from Dog class)\n",
    "class RussellTerrier(Dog):\n",
    "    def run(self, speed):\n",
    "        return \"{} runs {}\".format(self.name, speed)\n",
    "\n",
    "# Child class (inherits from Dog class)\n",
    "class Bulldog(Dog):\n",
    "    def run(self, speed):\n",
    "        return \"{} runs {}\".format(self.name, speed)\n",
    "```"
   ]
  },
  {
   "cell_type": "code",
   "execution_count": 39,
   "metadata": {},
   "outputs": [
    {
     "name": "stdout",
     "output_type": "stream",
     "text": [
      "I have 3 dogs.\n",
      "Tom is 6.\n",
      "Larry is 7.\n",
      "Fletcher is 9.\n",
      "And they're all mammals, of course.\n",
      "My dogs are not hungry.\n",
      "My dogs are not hungry.\n",
      "My dogs are not hungry.\n"
     ]
    }
   ],
   "source": [
    "# Parent class\n",
    "class Dog:\n",
    "\n",
    "    # Class attribute\n",
    "    species = 'mammal'\n",
    "\n",
    "    # Initializer / Instance attributes\n",
    "    def __init__(self, name, age, is_hungry):\n",
    "        self.name = name\n",
    "        self.age = age\n",
    "        self.is_hungry = True\n",
    "\n",
    "    # instance method\n",
    "    def description(self):\n",
    "        return \"{} is {} years old.\".format(self.name, self.age)\n",
    "\n",
    "    # instance method\n",
    "    def speak(self, sound):\n",
    "        return \"{} says {}\".format(self.name, sound)\n",
    "    \n",
    "    #instance method\n",
    "    def eat(self, is_hungry):\n",
    "        return is_hungry == False \n",
    "\n",
    "class Animals():\n",
    "    dogs = []\n",
    "    def __init__(self, dogs):\n",
    "        self.dogs = dogs\n",
    "        \n",
    "# Child class (inherits from Dog class)\n",
    "class RussellTerrier(Dog):\n",
    "    def run(self, speed):\n",
    "        return \"{} runs {}\".format(self.name, speed)\n",
    "    \n",
    "# Child class (inherits from Dog class)\n",
    "class Bulldog(Dog):\n",
    "    def run(self, speed):\n",
    "        return \"{} runs {}\".format(self.name, speed)\n",
    "    \n",
    "my_dogs = [ Bulldog(\"Tom\", 6, True), RussellTerrier(\"Larry\", 7, False), Dog(\"Fletcher\", 9, True)]\n",
    "my_animals = Animals(my_dogs)\n",
    "print(\"I have {} dogs.\".format(len(my_animals.dogs)))\n",
    "\n",
    "for dog in my_animals.dogs:\n",
    "    print(\"{} is {}.\".format(dog.name, dog.age))\n",
    "    \n",
    "print(\"And they're all {}s, of course.\".format(dog.species))\n",
    "\n",
    "are_my_dogs_hungry = True\n",
    "for dog in my_animals.dogs:\n",
    "    if dog.is_hungry:\n",
    "        are_my_dogs_hungry = False\n",
    "        print(\"My dogs are not hungry.\")"
   ]
  }
 ],
 "metadata": {
  "kernelspec": {
   "display_name": "Python 3",
   "language": "python",
   "name": "python3"
  },
  "language_info": {
   "codemirror_mode": {
    "name": "ipython",
    "version": 3
   },
   "file_extension": ".py",
   "mimetype": "text/x-python",
   "name": "python",
   "nbconvert_exporter": "python",
   "pygments_lexer": "ipython3",
<<<<<<< HEAD
<<<<<<< HEAD
   "version": "3.8.3"
=======
   "version": "3.7.6"
>>>>>>> upstream/master
=======
   "version": "3.5.4"
>>>>>>> upstream/master
  }
 },
 "nbformat": 4,
 "nbformat_minor": 2
}
