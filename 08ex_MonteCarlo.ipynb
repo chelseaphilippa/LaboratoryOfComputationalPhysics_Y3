{
 "cells": [
  {
   "cell_type": "markdown",
   "metadata": {},
   "source": [
    "1\\. **Radioactive decay chain**\n",
    "\n",
    "${\\rm Tl}^{208}$ decays to ${\\rm Pb}^{208}$ with a half-life of 3.052 minutes. Suppose to start with a sample of 1000 Thallium atoms and 0 of Lead atoms.\n",
    "\n",
    "* Take steps in time of 1 second and at each time-step decide whether each Tl atom has decayed or not, accordingly to the probability $p(t)=1-2^{-t/\\tau}$. Subtract the total number of Tl atoms that decayed at each step from the Tl sample and add them to the Lead one. Plot the evolution of the two sets as a function of time  \n",
    "* Repeat the exercise by means of the inverse transform method: draw 1000 random numbers from the non-uniform probability distribution $p(t)=2^{-t/\\tau}\\frac{\\ln 2}{\\tau}$ to represent the times of decay of the 1000 Tl atoms. Make a plot showing the number of atoms that have not decayed as a function of time"
   ]
  },
  {
   "cell_type": "code",
   "execution_count": 2,
   "metadata": {},
   "outputs": [],
   "source": [
    "import numpy as np\n",
    "import pandas as pd\n",
    "from scipy import stats\n",
    "\n",
    "import matplotlib.pyplot as plt\n",
    "import seaborn as sns\n",
    "%matplotlib inline"
   ]
  },
  {
   "cell_type": "code",
   "execution_count": 16,
   "metadata": {
    "scrolled": true
   },
   "outputs": [
    {
     "name": "stdout",
     "output_type": "stream",
     "text": [
      "183.12\n"
     ]
    },
    {
     "data": {
      "image/png": "[encoded data removed]",
      "text/plain": [
       "<Figure size 432x288 with 1 Axes>"
      ]
     },
     "metadata": {
      "needs_background": "light"
     },
     "output_type": "display_data"
    }
   ],
   "source": [
    "#probability function \n",
    "def prob(t):\n",
    "    tau = 3.052 * 60 #in seconds\n",
    "    return 1 - 2 **(-t/tau)\n",
    "\n",
    "#for each time step, decide if Tl atom has decayed\n",
    "TL_init = 1000\n",
    "TL_values = []\n",
    "PB_init = 0\n",
    "PB_values = []\n",
    "time = 1200\n",
    "atoms = np.zeros(TL_init)\n",
    "dt = 1\n",
    "\n",
    "TL_decayed = np.zeros(time)\n",
    "TL_remaining = np.zeros(time)\n",
    "\n",
    "for time_step in range(time):\n",
    "    TL_decayed[time_step] = np.sum(atoms == 1)\n",
    "    TL_remaining[time_step] = np.sum(atoms == 0)\n",
    "    \n",
    "    for j in range(TL_init):\n",
    "        if np.random.random() <= prob(dt):\n",
    "            if atoms[j] == 0:\n",
    "                atoms[j] = 1\n",
    "    \n",
    "#     TL_new = TL_init - (prob(time_step))*TL_init\n",
    "#     PB_diff = TL_init - TL_new\n",
    "#     PB_new = PB_init + PB_diff\n",
    "#     TL_values.append(TL_new)\n",
    "#     PB_values.append(PB_new)\n",
    "#     #reinitialise\n",
    "#     TL_init = TL_new\n",
    "#     PB_init = PB_new\n",
    "\n",
    "print(3.052 * 60)\n",
    "plt.plot(range(time), TL_decayed, label = 'Pb evolution')\n",
    "#plt.xscale(\"log\")\n",
    "plt.plot(range(time), TL_remaining, label = 'Tl evolution')\n",
    "plt.legend()\n",
    "plt.title('Evolution of Tl and Pb as a function of time')\n",
    "plt.show()"
   ]
  },
  {
   "cell_type": "code",
   "execution_count": 34,
   "metadata": {},
   "outputs": [
    {
     "data": {
      "image/png": "[encoded data removed]",
      "text/plain": [
       "<Figure size 432x288 with 1 Axes>"
      ]
     },
     "metadata": {
      "needs_background": "light"
     },
     "output_type": "display_data"
    }
   ],
   "source": [
    "# Repeat the exercise by means of the inverse transform method:\n",
    "# draw 1000 random numbers from the non-uniform probability \n",
    "# distribution  𝑝(𝑡)=2−𝑡/𝜏ln2𝜏  to represent the times of decay \n",
    "# of the 1000 Tl atoms. Make a plot showing the number of atoms \n",
    "# that have not decayed as a function of time\n",
    "\n",
    "def pdf(t, tau = 3.052 * 60):\n",
    "    return 2**(-t/tau) * np.log(2*tau)\n",
    "\n",
    "#define cumulative distribution function \n",
    "# P(F(n-1) <= u < F(n)) = pn\n",
    "\n",
    "def cdf(t, tau = 3.056 * 60):\n",
    "    return -tau*(2**(-t/tau))*(np.log(2*tau))/np.log(2)\n",
    "\n",
    "def icdf(x, tau = 3.056 * 60):\n",
    "    return (-(tau*np.log(-(x*np.log(2))/tau*np.log(2*tau)))/np.log(2))\n",
    "    \n",
    "\n",
    "u = np.random.random(1000)\n",
    "v = cdf(u)\n",
    "#print(v)\n",
    "    \n",
    "plt.hist(pdf(u), histtype='step', bins=100, density = True, linewidth=2)\n",
    "plt.show()    \n",
    "# t = np.linspace(0, 50, 100)\n",
    "# plt.plot(t, pdf(t), linewidth = 2)\n"
   ]
  },
  {
   "cell_type": "markdown",
   "metadata": {},
   "source": [
    "2\\. **Rutherford Scattering**\n",
    "\n",
    "The scattering angle $\\theta$ of $\\alpha$ particles hitting a positively charged nucleus of a Gold atom ($Z=79$) follows the rule:\n",
    "\n",
    "$$\n",
    "\\tan{\\frac{1}{2} \\theta} = \\frac{Z e^2} {2\\pi \\epsilon_0 E b}\n",
    "$$\n",
    "\n",
    "where $E=7.7$ MeV and $b$ beam is the impact parameter. The beam is represented by a 2D gaussian distribution with $\\sigma=a_0/100$ for both coordinates ($a_0$ being the Bohr radius). Assume 1 million $\\alpha$ particles are shot on the gold atom.\n",
    "\n",
    "Computing the fraction of particles that \"bounce back\",i.e. those particle whose scattering angle is greater than $\\pi/2$ (which set a condition on the impact parameter $b$)"
   ]
  },
  {
   "cell_type": "code",
   "execution_count": 136,
   "metadata": {},
   "outputs": [
    {
     "name": "stdout",
     "output_type": "stream",
     "text": [
      "[-9.14955354e-39 -1.55223878e-39  1.87683378e-39 -5.30494277e-39\n",
      "  2.57430760e-39  3.06224600e-39 -1.13647398e-39 -5.25790932e-39\n",
      " -4.57667021e-39 -9.98217108e-40  1.44193924e-38 -1.32407941e-38\n",
      " -5.02354493e-39 -1.21739895e-39 -4.26627742e-39  2.18701171e-39\n",
      " -6.59433189e-39  1.81785401e-39 -1.55062464e-39  3.47117523e-39]\n",
      "[0.0, 1.5707963267948966, 2.214297435588181, 2.498091544796509, 2.651635327336065, 2.746801533890032, 2.8112952987605397, 2.8577985443814655, 2.89288266449627, 2.920278211242002, 2.9422553486074694, 2.960272879188303, 2.9753101898129106, 2.9880488710502373, 2.9989777240192126, 3.0084563260381456, 3.0167550335978786, 3.024081008158348, 3.0305956430983594, 3.0364265303679097, 3.0416758621459077, 3.0464264470358264, 3.050746094746639, 3.0546908628067317, 3.0583074953926164, 3.0616352793432133, 3.064707473547417, 3.067552421841933, 3.0701944282311455, 3.072654451590777, 3.0749506618332987, 3.0770988887192856, 3.079112986729257, 3.081005133752243, 3.082786077181783, 3.084465337912273, 3.0860513804029512, 3.0875517552152636, 3.088973219083949, 3.090321836546438, 3.091603066351953, 3.092821835244356, 3.093982601219653, 3.0950894079688673, 3.096145931906511, 3.097155522936355, 3.0981212399062077, 3.099045881541671, 3.099932013517359, 3.1007819922167172, 3.101597985643492, 3.102381991875384, 3.103135855390379, 3.1038612815464517, 3.104559849453775, 3.105233023443837, 3.1058821633106883, 3.1065085334749885, 3.1071133112007336, 3.1076975939769835, 3.108262406161912, 3.1088087049737827, 3.1093373859025206, 3.109849287606213, 3.1103451963488395, 3.110825850028603, 3.111291941840254, 3.1117441236096233, 3.1121830088340903, 3.1126091754587932, 3.113023168415, 3.113425501944073, 3.113816661727859, 3.1141971068440615, 3.114567271563137, 3.114927567001502, 3.1152783826442816, 3.1156200877494484, 3.115953032643992, 3.1162775499216893, 3.1165939555510698, 3.116902549901344, 3.1172036186932894, 3.117497433881421, 3.1177842544731735, 3.1180643272902757, 3.1183378876770256, 3.118605160159732, 3.1188663590612116, 3.119121689073868, 3.1193713457945784, 3.119615516224326, 3.1198543792352527, 3.1200881060075907, 3.1203168604387104, 3.1205407995263426, 3.120760073727854, 3.1209748272973066, 3.121185198601885, 3.1213913204191495]\n",
      "bounce back fraction 0.98\n"
     ]
    }
   ],
   "source": [
    "import math\n",
    "import pandas as pd\n",
    "alpha_part = 100\n",
    "a0 = 5.29177210903 * 10**(-11) #m\n",
    "Z = 79 \n",
    "E = (7.7 * 10**6 )/e #V\n",
    "epsilon = 8.8541878128 * 10**(-12) #Fm^-1\n",
    "e = 1.602 * 10 **(-19) #C\n",
    "#b = np.column_stack(((np.random.normal(0, a0/100, 20)), np.random.normal(0, a0/100, 20)))\n",
    "#x = (Z*e**2)/(2*np.pi*epsilon*E*b)\n",
    "#df = pd.DataFrame(x)\n",
    "#column1 = df.loc[0:20,0].tolist()\n",
    "column1 = (Z*e**2)/(2*np.pi*epsilon*E*np.random.normal(0, a0/100, 20))\n",
    "print(column1)\n",
    "column1_new = []\n",
    "for i in range(alpha_part):\n",
    "    theta_half = math.atan(i)\n",
    "    theta = theta_half * 2\n",
    "    column1_new.append(theta)\n",
    "#print(column1)\n",
    "#print(column1_new)\n",
    "column2 = (Z*e**2)/(2*np.pi*epsilon*E*np.random.normal(0, a0/100, alpha_part))\n",
    "column2_new = []\n",
    "for i in range(alpha_part):\n",
    "    theta_half = math.atan(i)\n",
    "    theta = theta_half * 2\n",
    "    column2_new.append(theta)\n",
    "#print(column2)\n",
    "#print(column2_new)\n",
    "\n",
    "\n",
    "bounce_backs = 0\n",
    "print(column1_new)\n",
    "for i in range(len(column1_new)):\n",
    "    if column1_new[i] and column2_new[i] > np.pi/2:\n",
    "         bounce_backs+=1\n",
    "print('bounce back fraction', bounce_backs/alpha_part)"
   ]
  },
  {
   "cell_type": "markdown",
   "metadata": {},
   "source": [
    "3\\. **Monte Carlo integration: hit/miss vs mean value method**\n",
    "\n",
    "Consider the function \n",
    "\n",
    "$$f(x) =\\sin^2{\\frac{1}{x(2-x)}}$$\n",
    "\n",
    "* Compute the integral of $f(x)$ between 0 and 2 with the hit/miss method. Evaluate the error of your estimate\n",
    "* Repeat the integral with the mean value method. Evaluate the error and compare it with the previous one"
   ]
  },
  {
   "cell_type": "code",
   "execution_count": null,
   "metadata": {},
   "outputs": [],
   "source": []
  },
  {
   "cell_type": "markdown",
   "metadata": {},
   "source": [
    "4\\. **Monte Carlo integration in high dimension**\n",
    "\n",
    "* Start of by computing the area of a circle of unit radius, by integrating the function \n",
    "\n",
    "$$\n",
    "f(x,y)=\n",
    "\\left\\{\n",
    "\\begin{array}{ll}\n",
    "      1 & x^2+y^2\\le 1 \\\\\n",
    "      0 & {\\rm elsewhere}\n",
    "\\end{array} \n",
    "\\right.\n",
    "$$\n",
    "\n",
    "* Generalize the result for a 10D sphere\n",
    "\n"
   ]
  },
  {
   "cell_type": "code",
   "execution_count": null,
   "metadata": {},
   "outputs": [],
   "source": []
  },
  {
   "cell_type": "markdown",
   "metadata": {},
   "source": [
    "5\\. **Monte Carlo integration with importance sampling** \n",
    "\n",
    "Calculate the value of the integral:\n",
    "\n",
    "$$\n",
    "I=\\int_0^1 \\frac{x^{-1/2}}{e^x+1} dx\n",
    "$$\n",
    "\n",
    "using the importance sampling method with $w(x)=1/\\sqrt{x}$. You should get a result about 0.84"
   ]
  },
  {
   "cell_type": "code",
   "execution_count": 76,
   "metadata": {},
   "outputs": [
    {
     "data": {
      "text/plain": [
       "array([ 1.1912,  0.958 ,  2.0666, ..., -0.8532,  0.2535, -0.288 ])"
      ]
     },
     "execution_count": 76,
     "metadata": {},
     "output_type": "execute_result"
    }
   ],
   "source": [
    "def func(x):\n",
    "    return x**(-1/2)/(np.exp(x) + 1)\n",
    "n = 1000000\n"
   ]
  },
  {
   "cell_type": "code",
   "execution_count": null,
   "metadata": {},
   "outputs": [],
   "source": []
  }
 ],
 "metadata": {
  "kernelspec": {
   "display_name": "Python 3",
   "language": "python",
   "name": "python3"
  },
  "language_info": {
   "codemirror_mode": {
    "name": "ipython",
    "version": 3
   },
   "file_extension": ".py",
   "mimetype": "text/x-python",
   "name": "python",
   "nbconvert_exporter": "python",
   "pygments_lexer": "ipython3",
   "version": "3.8.3"
  }
 },
 "nbformat": 4,
 "nbformat_minor": 2
}
